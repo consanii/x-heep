{
 "cells": [
  {
   "cell_type": "markdown",
   "metadata": {},
   "source": [
    "# Analysis notebook for the flash BSP"
   ]
  },
  {
   "cell_type": "markdown",
   "metadata": {},
   "source": [
    "To set-up and activate the environment. This block should not be run every time."
   ]
  },
  {
   "cell_type": "code",
   "execution_count": null,
   "metadata": {},
   "outputs": [],
   "source": [
    "# Create a new environment named \"myenv\"\n",
    "# If the environment already exists, comment out the line below\n",
    "! python -m venv myenv\n",
    "\n",
    "# Activate the environment\n",
    "! source myenv/bin/activate\n",
    "\n",
    "# Install numpy and pandas\n",
    "! pip install numpy pandas"
   ]
  },
  {
   "cell_type": "markdown",
   "metadata": {},
   "source": [
    "Import the needed libraries"
   ]
  },
  {
   "cell_type": "code",
   "execution_count": null,
   "metadata": {},
   "outputs": [],
   "source": [
    "import matplotlib.pyplot as plt\n",
    "import pandas as pd"
   ]
  },
  {
   "cell_type": "markdown",
   "metadata": {},
   "source": [
    "---"
   ]
  },
  {
   "cell_type": "markdown",
   "metadata": {},
   "source": [
    "Import the measurement data stored in the `data` folder."
   ]
  },
  {
   "cell_type": "code",
   "execution_count": null,
   "metadata": {},
   "outputs": [],
   "source": [
    "file_path = 'path/to/your/input_file.txt'\n",
    "\n",
    "with open(file_path, 'r') as file:\n",
    "    input_string = file.read().strip()\n",
    "\n",
    "# ECC..."
   ]
  },
  {
   "cell_type": "markdown",
   "metadata": {},
   "source": [
    "As of now, in a single file there are both the read and write measurement of a specific benchmark setup. They are separated by commas and are in the following stucture: `write, read, write, read, ...` . In order to process and plot the results, we need to separate them."
   ]
  },
  {
   "cell_type": "code",
   "execution_count": null,
   "metadata": {},
   "outputs": [],
   "source": [
    "# Function to split the values\n",
    "def split_values(input_string):\n",
    "    values = input_string.split(',')\n",
    "    odd_positions = values[::2]\n",
    "    even_positions = values[1::2]\n",
    "    return odd_positions, even_positions\n",
    "\n",
    "write_times_standard, read_times_standard = split_values(input_string)"
   ]
  },
  {
   "cell_type": "code",
   "execution_count": null,
   "metadata": {},
   "outputs": [],
   "source": [
    "# Create Panda dataframes\n",
    "\n",
    "# Size of the test buffer used, in bytes\n",
    "buffer_sizes = list(range(1, 1025))\n",
    "\n",
    "df_standard = pd.DataFrame({'Buffer Test Size': buffer_sizes, 'Read Time': read_times_standard, 'Write Time': write_times_standard})\n",
    "# df_quad = \n",
    "# df_standard_dma = \n",
    "# df_quad_dma ="
   ]
  },
  {
   "cell_type": "markdown",
   "metadata": {},
   "source": [
    "### Process the data"
   ]
  },
  {
   "cell_type": "markdown",
   "metadata": {},
   "source": [
    "As the time is expected to linearly with the number of bytes, it can be more difficult to understand the results. For this reason, instead of plotting the absolute values as gained from the measurement, the time per byte ratio is plotted."
   ]
  },
  {
   "cell_type": "code",
   "execution_count": null,
   "metadata": {},
   "outputs": [],
   "source": [
    "# Obtain the time units / bytes ratio\n",
    "df_standard['Read Ratio'] = df_standard['Read Time'] / df_standard['Buffer Test Size']\n",
    "df_standard['Write Ratio'] = df_standard['Write Time'] / df_standard['Buffer Test Size']"
   ]
  },
  {
   "cell_type": "markdown",
   "metadata": {},
   "source": [
    "### Plot the results"
   ]
  },
  {
   "cell_type": "code",
   "execution_count": null,
   "metadata": {},
   "outputs": [],
   "source": [
    "# Create plots\n",
    "plt.figure(figsize=(10, 5))\n",
    "\n",
    "# Plot for Read Times Standard\n",
    "plt.subplot(1, 2, 1)\n",
    "plt.plot(df_standard['Buffer Size'], df_standard['Read Ratio'], marker='o')\n",
    "plt.title('Read Times Standard')\n",
    "plt.xlabel('Buffer Size (bytes)')\n",
    "plt.ylabel('Time per byte')\n",
    "\n",
    "# Plot for Write Times Standard\n",
    "plt.subplot(1, 2, 2)\n",
    "plt.plot(df_standard['Buffer Size Standard'], df_standard['Write Ratio'], marker='o')\n",
    "plt.title('Write Times')\n",
    "plt.xlabel('Buffer Size (bytes)')\n",
    "plt.ylabel('Time per byte')\n",
    "\n",
    "# Adjust layout\n",
    "plt.tight_layout()\n",
    "\n",
    "# Show the plots\n",
    "plt.show()"
   ]
  }
 ],
 "metadata": {
  "language_info": {
   "name": "python"
  }
 },
 "nbformat": 4,
 "nbformat_minor": 2
}
